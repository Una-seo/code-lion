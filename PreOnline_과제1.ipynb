{
  "nbformat": 4,
  "nbformat_minor": 0,
  "metadata": {
    "colab": {
      "name": "PreOnline 과제1.ipynb",
      "provenance": [],
      "authorship_tag": "ABX9TyPxmVvm8aG49gNPIoUVbzu/",
      "include_colab_link": true
    },
    "kernelspec": {
      "name": "python3",
      "display_name": "Python 3"
    }
  },
  "cells": [
    {
      "cell_type": "markdown",
      "metadata": {
        "id": "view-in-github",
        "colab_type": "text"
      },
      "source": [
        "<a href=\"https://colab.research.google.com/github/Una-seo/code-lion/blob/master/PreOnline_%EA%B3%BC%EC%A0%9C1.ipynb\" target=\"_parent\"><img src=\"https://colab.research.google.com/assets/colab-badge.svg\" alt=\"Open In Colab\"/></a>"
      ]
    },
    {
      "cell_type": "markdown",
      "metadata": {
        "id": "XABGVkbNKl9A",
        "colab_type": "text"
      },
      "source": [
        "# __1주차 과제__\n",
        "> 언어, 음성, 이미지, 자율주행 분야(4가지)에서 인공지능을 활용한 제품 및 서비스를 알아본다."
      ]
    },
    {
      "cell_type": "markdown",
      "metadata": {
        "id": "b12x78O1UXTv",
        "colab_type": "text"
      },
      "source": [
        "## __1. 언어__\n",
        "\n",
        "### __1.1. 인공신경망 기계번역(NMT, Neural Machine Translation)__\n",
        "- 인공신경망은 원문을 번역문으로 번역할 때, 원 문장을 벡터라는 값으로 전환한다. 해당 벡터 속에는 단어, 어순, 문법 등 여러 요인이 포함돼 있다. 인공신경망은 이러한 요인을 기반으로 정확도가 높은 번역문을 산출해낸다.\n",
        "- 기계번역이 스스로 학습하는 기술도 개발되도 있다. 대표적인 기술로 '역 번역(Back Translation)'과 '디노이징(Denoising)'이 있다.\n",
        "  - 역 번역은 말 그대로 원문에서 나온 번역문을 다시 원문의 언어로 번역해서 기존 원문과 유사한지를 확인함으로써 정확도를 개선하는 기술\n",
        "  - 디노이징은 역 번역 과정에서 문장에 단어 등을 추가해 원문의 언어로 번역하게 한다. 그 유사성을 분석해 정확도를 개선하는 기술\n",
        "\n",
        "### __1.2. 자연어 처리(NLP, Natural language processing)__\n",
        "\n",
        "#### __1.2.1. 챗봇__\n",
        "\n",
        "#### __1.2.2. 언어 번역 프로그램__\n",
        "\n",
        "구글 다국어 언어모델 '버트(BERT)'\n",
        "\n"
      ]
    },
    {
      "cell_type": "markdown",
      "metadata": {
        "id": "5X8L1lYUrZ8U",
        "colab_type": "text"
      },
      "source": [
        "## __2. 음성__\n",
        "### __2.1. 애플 Siri 음성인식 시스템__\n"
      ]
    },
    {
      "cell_type": "markdown",
      "metadata": {
        "id": "yLlvd3_zrhdq",
        "colab_type": "text"
      },
      "source": [
        "## __3. 이미지__\n",
        "\n",
        "### __3.1. 객체인식__\n",
        "> 이미지 또는 비디오 상의 객체를 식별하는 컴퓨터 비전 기술로, 딥러닝과 머신러닝 알고리즘을 통해 산출되는 핵심 기술\n",
        "\n",
        "#### __3.1.1. 활용__\n",
        "- 의료 이미징에서 질병 식별\n",
        "- 산업 검사 및 로봇 비전\n",
        "- 자동차의 정지신호 인식 등\n",
        "\n",
        "#### __3.1.2. 딥러닝 사용__\n",
        "\n",
        "### __3.2. 구글 포토__\n",
        "\n",
        "__3.2.1. 목표__\n",
        "\n",
        "- 초인간인식(Super-human-recognition)\n",
        "    - 단순히 누워있는 고양이 정도를 검색하는 것에서 끝나는 것이 아니라 그 고양이의 품종이 뭔지까지 인식해 검색 결과에 반영할 수 있는 단계\n",
        "\n"
      ]
    },
    {
      "cell_type": "markdown",
      "metadata": {
        "id": "J8uxch7HrkzY",
        "colab_type": "text"
      },
      "source": [
        "## __4. 자율주행__\n",
        "### __4.1. 라이다(LiDAR)__\n",
        "> 빛을 이용한 주변 탐색장치로서 주변 물체와의 거리나 형상을 인식하고, 야간이나 역광에도 정확한 물체 인식 가능\n",
        "\n",
        "#### __4.1.1. 라이다를 이용한__\n",
        "\n",
        "\n",
        "- - -"
      ]
    },
    {
      "cell_type": "markdown",
      "metadata": {
        "id": "X4ExFLx_ynsw",
        "colab_type": "text"
      },
      "source": [
        "## __참조링크__\n",
        "\n"
      ]
    },
    {
      "cell_type": "markdown",
      "metadata": {
        "id": "xJjTmny5zElL",
        "colab_type": "text"
      },
      "source": [
        "Link: [TheScienceTimes][science]\n",
        "\n",
        "[science]: https://www.sciencetimes.co.kr/news/%ea%b8%b0%ea%b3%84%eb%b2%88%ec%97%ad-%ec%96%b4%eb%94%94%ea%b9%8c%ec%a7%80-%ec%a7%84%ed%99%94%ed%96%88%eb%82%98/?cat=29\n",
        "\n",
        "Link: [카이스트신문][kaist]\n",
        "\n",
        "[kaist]: https://times.kaist.ac.kr/news/articleView.html?idxno=10299\n",
        "\n",
        "\n"
      ]
    }
  ]
}