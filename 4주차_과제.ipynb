{
  "nbformat": 4,
  "nbformat_minor": 0,
  "metadata": {
    "colab": {
      "name": "4주차_과제.ipynb",
      "provenance": [],
      "collapsed_sections": [],
      "include_colab_link": true
    },
    "kernelspec": {
      "name": "python3",
      "display_name": "Python 3"
    }
  },
  "cells": [
    {
      "cell_type": "markdown",
      "metadata": {
        "id": "view-in-github",
        "colab_type": "text"
      },
      "source": [
        "<a href=\"https://colab.research.google.com/github/Una-seo/lion1pre_test/blob/master/4%EC%A3%BC%EC%B0%A8_%EA%B3%BC%EC%A0%9C.ipynb\" target=\"_parent\"><img src=\"https://colab.research.google.com/assets/colab-badge.svg\" alt=\"Open In Colab\"/></a>"
      ]
    },
    {
      "cell_type": "markdown",
      "metadata": {
        "id": "wxkL6PjwsI6L",
        "colab_type": "text"
      },
      "source": [
        "# **4주차 과제**\n",
        "- 용어 정리\n",
        "- 딥러닝 강의 클론 코딩\n",
        "- 딥러닝 순전파 & 역전파 계산"
      ]
    },
    {
      "cell_type": "markdown",
      "metadata": {
        "id": "ixEtDe6_uGgI",
        "colab_type": "text"
      },
      "source": [
        "## **1. 용어 정리**\n",
        "\n",
        "다음 제시된 단어의 정의(설명)를 정리하여 작성 하세요.\n",
        "\n",
        "* 2문장 이상 작성 해 주세요. \n",
        "* 주제(단어)와 크게 벗어나지만 않는다면 정답처리 됩니다.\n",
        "* 강의 뿐 아니라 기타 레퍼런스를 참고하여 작성하셔도 됩니다. (기타 레퍼런스를 참고하신 경우, 해당 레퍼런스를 정리하여 하단에 작성해 주세요.)\n"
      ]
    },
    {
      "cell_type": "markdown",
      "metadata": {
        "id": "0lfwat8eurKZ",
        "colab_type": "text"
      },
      "source": [
        "__(예시)__\n",
        "### 심층 신경망\n",
        ": 입력층과 출력층 사이에 여러 개의 은닉층들로 이뤄진 인공신경망이다. 심층 신경망은 일반적으로 인공신경망과 마찬가지로 복잡한 비선형 관계들을 모델링 할 수 있다. 신층신경망의 목적은 분류 및 수치예측을 하기 위함이고 이미지 트레이닝이나 문자인식과 같은 분야에서 매우 유용하게 쓰이고 있다."
      ]
    },
    {
      "cell_type": "markdown",
      "metadata": {
        "id": "Y8YJNKG_v65A",
        "colab_type": "text"
      },
      "source": [
        "### **MCP 뉴런**\n",
        ": 1943년 매컬럭과 월터 피츠는 신경세포를 간단한 바이너리 출력을 갖는 논리게이트로 설명한 맥컬럭-피츠(MCP)라 불리는 뇌 세포의 개념을 발표했다. 매컬럭과 월터 피츠가 발표한 MCP 세포는 우선 수상돌기에서 복수의 화학적 신호를 받아 세포체를 통해 통합해 전기 신호로 변경한다. 이후 전기신호가 임계치까지 누적된다면 축색돌기를 통해 다시 화학신호로 변경해 내보내는 간단한 구조를 갖고있었다.\n",
        "\n",
        "### **퍼셉트론**\n",
        ": MCP뉴런으로 부터 영감을 받은 프랭크 로젠블렛은 퍼셉트론이라는 임계치 모델과 학습 알고리즘을 발표했다. MCP뉴런의 논리게이트를 모델로 구현한것이기 때문에 근본적으로는 차이가 없다. \n",
        "퍼셉트론은 입력과 임계치를 포함한 활성함수,  출력으로 구성되있으며  입력값이 활성함수로 입력되게 된다. 이 때 입력값의 누적이 임계치(theta or threshold)보다 크면 1을 반환하고 작으면 0을 반환 하는 바이너리 결과(혹은 1과 -1) 를 출력값으로 갖는다.\n",
        "\n",
        "### **역전파**\n",
        ": 역전파는 신경망(Neural Network)을 훈련시키기 위해 사용하는 기술인데, 이 알고리즘의 이름에서 알수있듯이, 에러(그 결과로서의 학습 (Learning))가 출력 노드로부터 내부노드로 역으로 전파한다. 기술적으로 말하자면, 역전파는 변경가능한 가중치(weight)에 대해 네트워크의 에러의 기울기를 계산하는데 사용된다. 여기서의 기울기는 에러를 최소화하는 가중치를 찾기위한 확률적 기울기 하강(Gradient Descent)에서 보통 사용된다. \n",
        "\n",
        "### **강화학습**\n",
        ": 강화 학습은 에이전트Agent라는 존재가 환경과 상호작용하며, 이 환경에는 보상이라는 기준이 있어서 다양한 시행착오를 겪어가며 보상을 최대화하는 방향으로 학습을 진행한다. 이 학습의 주요 목적은 에이전트가 많은 보상을 받기 위해 최적의 정책을 학습하는 것이다. 그리고 에이전트가 최적의 정책을 찾기 위해서는 여러 상황에서 다양한 행동을 하며 많은 경험을 해보는 것이 필수다.\n",
        "\n",
        "### **과적합**\n",
        ": 과적합(overfitting)은 머신러닝에서 학습 데이터를 과하게 학습(overfitting)하는 것을 뜻한다. 일반적으로 학습 데이터는 실제 데이터의 부분 집합이므로 학습데이터에 대해서는 오차가 감소하지만 실제 데이터에 대해서는 오차가 증가하게 된다.\n",
        "- 일반적으로 학습 데이터는 실제 데이터의 부분집합이며, 실제 데이터를 모두 수집하는 것은 불가능하다.\n",
        "- 만약 실제 데이터를 모두 수집하여도 모든 데이터를 학습 시키기 위한 시간이 측정 불가능한 수준으로 증가 할 수 있다.\n",
        "- 학습 데이터만 가지고 실제 데이터의 오차가 증가하는 지점을 예측하는 것은 매우 어렵거나 불가능하다.\n",
        "\n",
        "### **차원의 저주**\n",
        ": 차원의 저주는 머신러닝, 데이터 마이닝 분야에서 사용하는 용어인데, 데이터의 차원이 증가하면 해당 공간의 부피가 기하급수적으로 증가하게 되고, 모델을 추정하기 위해 필요한 샘플 데이터의 개수도 기하급수적으로 증가하게 된다. 또한, 공간 상에 분포하는 데이터의 밀도 역시 매우 희박하게 된다. 이런 현상을 차원의 저주라는 표현을 써서 어려운을 나다태는 것이다.\n"
      ]
    },
    {
      "cell_type": "markdown",
      "metadata": {
        "id": "d-zfFXLCy6jD",
        "colab_type": "text"
      },
      "source": [
        "## **2. 딥러닝 강의 클론 코딩**\n",
        "\n",
        "####__퍼셉트론 구조 구현하기__ \n",
        "딥러닝 강의(__딥러닝 원리[1] 3:15 ~ 5:15 부분__)를 보고 코드를 따라 치며 출력 결과를 만드세요.\n",
        " \n",
        "\n",
        "* 하나의 코드셀에 해당 코드를 한번에 다 적어서 실행해주세요 (__그렇게 하지 않을 경우, 아래 이미지와 같은 출력값이 나오지 않을 수 있습니다__)\n",
        "\n",
        "*__주의!__ 실제로 코딩해서 출력해보면 강의에 나온 출력 결과와 다르게 나옵니다!!\n"
      ]
    },
    {
      "cell_type": "markdown",
      "metadata": {
        "id": "wcc5mzI9oZ7r",
        "colab_type": "text"
      },
      "source": [
        "![대체 텍스트](https://www.notion.so/image/https%3A%2F%2Fs3-us-west-2.amazonaws.com%2Fsecure.notion-static.com%2F0cceeed0-0235-4b0f-af88-0b8c377d5b4b%2F_2020-06-09__9.35.23.png?table=block&id=88fd8912-9356-49a4-9fda-a1a63fe96ea9&width=2870&cache=v2)"
      ]
    },
    {
      "cell_type": "code",
      "metadata": {
        "id": "uSKUgRHg1HrZ",
        "colab_type": "code",
        "outputId": "2e707f09-ed72-4fbc-d6fe-3cb21a3567a2",
        "colab": {
          "base_uri": "https://localhost:8080/",
          "height": 207
        }
      },
      "source": [
        "import tensorflow as tf\n",
        "tf.compat.v1.set_random_seed(2020)\n",
        "x = 1    #입력값이 1일때\n",
        "y = 0    #원하는 출력값은 0으로 설정하고 \n",
        "w = tf.random.normal([1],0,1)    #가중치는 정규분포의 무작위 값을 설정\n",
        "\n",
        "#그리고 활성화 함수에는 여러가지가 있는데, 그 중 sigmoid 사용\n",
        "import math\n",
        "def sigmoid(x) :\n",
        "\treturn 1/(1 + math.exp(-x))\n",
        "\n",
        "#출력값을 확인해보면,\n",
        "output = sigmoid( x * w )\n",
        "print(output)\n",
        "\n",
        "for i in range(1000) :\n",
        "\toutput = sigmoid(x*w)\n",
        "\terror = y - output    #에러값을 만들기 위해 기대출력-실제 결과값으로 에러객체 생성\n",
        "\tw = w + x * 0.1 * error    #경사하강법을 코드로 구현\n",
        "\n",
        "\tif i % 100 == 99:\n",
        "\t\tprint(\"학습 횟수:\", i, \"Error:\", error, \"예측 결과:\", output)"
      ],
      "execution_count": 0,
      "outputs": [
        {
          "output_type": "stream",
          "text": [
            "0.47477188589261\n",
            "학습 횟수: 99 Error: -0.10010598284299604 예측 결과: 0.10010598284299604\n",
            "학습 횟수: 199 Error: -0.05178399422833116 예측 결과: 0.05178399422833116\n",
            "학습 횟수: 299 Error: -0.034590451977903586 예측 결과: 0.034590451977903586\n",
            "학습 횟수: 399 Error: -0.02588962752851373 예측 결과: 0.02588962752851373\n",
            "학습 횟수: 499 Error: -0.020658699939863617 예측 결과: 0.020658699939863617\n",
            "학습 횟수: 599 Error: -0.017174253993457355 예측 결과: 0.017174253993457355\n",
            "학습 횟수: 699 Error: -0.014689506449480992 예측 결과: 0.014689506449480992\n",
            "학습 횟수: 799 Error: -0.012829497265431342 예측 결과: 0.012829497265431342\n",
            "학습 횟수: 899 Error: -0.011385568271837804 예측 결과: 0.011385568271837804\n",
            "학습 횟수: 999 Error: -0.010232493309882492 예측 결과: 0.010232493309882492\n"
          ],
          "name": "stdout"
        }
      ]
    },
    {
      "cell_type": "markdown",
      "metadata": {
        "id": "kr0HVRk8fOom",
        "colab_type": "text"
      },
      "source": [
        "## **3. 딥러닝 순전파 & 역전파 계산**\n",
        "\n",
        "딥러닝 강의(__딥러닝 원리[2] 0:55 ~ 4:32 부분__)에 나오는 순전파 & 역전파 계산에 대한 문제 입니다.\n",
        "\n",
        "해당 영상과 다음 이미지를 참고하여 다음 2가지 물음에 답하세요.\n",
        "\n",
        "\n",
        "(1) 학습률이 0.2 일 경우 출력층의 노드값\n",
        "\n",
        "(2) 학습률이 0.1과 0.2 중 기대출력값이 지도데이터 \"3\"과 더 가까운 학습률은?"
      ]
    },
    {
      "cell_type": "markdown",
      "metadata": {
        "id": "CpwPFWhOUzww",
        "colab_type": "text"
      },
      "source": [
        "![대체 텍스트](https://www.notion.so/image/https%3A%2F%2Fs3-us-west-2.amazonaws.com%2Fsecure.notion-static.com%2Ff54dfd45-92ec-44ae-9616-6949d2484a45%2F_2020-06-10__5.22.03.png?table=block&id=ee05da89-3ceb-4ad9-a2d3-c9f68d24d1d9&width=3580&cache=v2)"
      ]
    },
    {
      "cell_type": "markdown",
      "metadata": {
        "id": "B2OVY7w5U3CI",
        "colab_type": "text"
      },
      "source": [
        "## (1) 학습률이 0.2 일 경우 출력층의 노드값 : 0.8\n",
        "## (2) 학습률이 0.1과 0.2 중 기대출력값이 지도데이터 \"3\"과 더 가까운 학습률은? : 0.1"
      ]
    },
    {
      "cell_type": "markdown",
      "metadata": {
        "id": "B2b4-c9V_55l",
        "colab_type": "text"
      },
      "source": [
        "## **참조링크**\n",
        "\n",
        "Link: [MCP 뉴런, 퍼셉트론][mcp]\n",
        "\n",
        "[mcp]: https://yamerong.tistory.com/43\n",
        "\n",
        "\n",
        "Link: [역전파][back]\n",
        "\n",
        "[back]: http://www.aistudy.com/neural/backpropagation.htm\n",
        "\n",
        "\n",
        "Link: [과적합][wiki]\n",
        "\n",
        "[wiki]: https://ko.wikipedia.org/wiki/%EA%B3%BC%EC%A0%81%ED%95%A9\n",
        "\n",
        "\n",
        "Link: [차원의저주][curse]\n",
        "\n",
        "[curse]: https://m.blog.naver.com/PostView.nhn?blogId=samsjang&logNo=221023672149&referrerCode=0&searchKeyword=%EC%B0%A8%EC%9B%90%EC%9D%98%20%EC%A0%80%EC%A3%BC\n"
      ]
    }
  ]
}