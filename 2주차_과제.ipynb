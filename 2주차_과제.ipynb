{
  "nbformat": 4,
  "nbformat_minor": 0,
  "metadata": {
    "colab": {
      "name": "2주차_과제.ipynb",
      "provenance": [],
      "collapsed_sections": [],
      "include_colab_link": true
    },
    "kernelspec": {
      "name": "python3",
      "display_name": "Python 3"
    }
  },
  "cells": [
    {
      "cell_type": "markdown",
      "metadata": {
        "id": "view-in-github",
        "colab_type": "text"
      },
      "source": [
        "<a href=\"https://colab.research.google.com/github/Una-seo/lion1pre_test/blob/master/2%EC%A3%BC%EC%B0%A8_%EA%B3%BC%EC%A0%9C.ipynb\" target=\"_parent\"><img src=\"https://colab.research.google.com/assets/colab-badge.svg\" alt=\"Open In Colab\"/></a>"
      ]
    },
    {
      "cell_type": "markdown",
      "metadata": {
        "id": "tMEA4LyXqBOz",
        "colab_type": "text"
      },
      "source": [
        "# __2주차 과제__\n",
        "- 파이썬 문제\n",
        "- 인공지능 수학 문제\n",
        "\n",
        "\n",
        "*주의사항\n",
        "\n",
        "-- 문제에서 제시된 변수에 저장된 값을 __직접__ 변경하는 것은 오답으로 처리됩니다. (__예외도 있으니 문제설명을 자세히 읽어주세요__)\n",
        "\n",
        "-- 제시된 변수 이외의 변수를 추가해서 문제를 풀어도 됩니다 (__문제 설명에 명시된 변수 변경만 불가합니다.__)"
      ]
    },
    {
      "cell_type": "markdown",
      "metadata": {
        "id": "z1qTsPAIkmfA",
        "colab_type": "text"
      },
      "source": [
        "## __파이썬 문제__"
      ]
    },
    {
      "cell_type": "markdown",
      "metadata": {
        "id": "Lqd5sxxas0rW",
        "colab_type": "text"
      },
      "source": [
        "### __01번 문제 (Data Type)__\n",
        "\n",
        "__다음 변수 a, 변수 b, 변수 c의 자료형을 출력하세요.__"
      ]
    },
    {
      "cell_type": "code",
      "metadata": {
        "id": "R8MW9Rqhu61b",
        "colab_type": "code",
        "outputId": "e020faaf-86e4-41bb-8fe3-00892740b316",
        "colab": {
          "base_uri": "https://localhost:8080/",
          "height": 68
        }
      },
      "source": [
        "# 주어진 변수(a, b, c) 직접 수정불가\n",
        "a = 'str'\n",
        "b = 123\n",
        "c = True\n",
        "\n",
        "\n",
        "print(type(a))\n",
        "print(type(b))\n",
        "print(type(c))"
      ],
      "execution_count": 0,
      "outputs": [
        {
          "output_type": "stream",
          "text": [
            "<class 'str'>\n",
            "<class 'int'>\n",
            "<class 'bool'>\n"
          ],
          "name": "stdout"
        }
      ]
    },
    {
      "cell_type": "markdown",
      "metadata": {
        "id": "1gR8X465xuCj",
        "colab_type": "text"
      },
      "source": [
        "### __02번 문제 (for문)__\n",
        "\n",
        "__다음 변수 num_list에 있는 요소를 모두 더한 값을 for문을 활용하여 변수 answer에 저장하고  그 값을 출력하세요.__"
      ]
    },
    {
      "cell_type": "code",
      "metadata": {
        "id": "wI7l2ltaRUKy",
        "colab_type": "code",
        "outputId": "f93ad05f-9284-418a-a800-9069b7f482ed",
        "colab": {
          "base_uri": "https://localhost:8080/",
          "height": 35
        }
      },
      "source": [
        "# 주어진 변수(num_list) 직접 수정 불가\n",
        "# for문을 사용 하지 않은 경우 오답처리\n",
        "num_list = [1,2,3,4,5,6,7,8,9]\n",
        "answer = 0\n",
        "\n",
        "for i in num_list:\n",
        "    answer += i\n",
        "\n",
        "print(answer)"
      ],
      "execution_count": 0,
      "outputs": [
        {
          "output_type": "stream",
          "text": [
            "45\n"
          ],
          "name": "stdout"
        }
      ]
    },
    {
      "cell_type": "markdown",
      "metadata": {
        "id": "0qwzazplzlj8",
        "colab_type": "text"
      },
      "source": [
        ""
      ]
    },
    {
      "cell_type": "markdown",
      "metadata": {
        "id": "PtKl46h3S4wL",
        "colab_type": "text"
      },
      "source": [
        "### __03번 문제 (slice string)__\n",
        "\n",
        "__다음 변수 date를 슬라이스해서 year(년), month(월), day(일)를 각각 출력하세요.__ (출력 : 2020 05 11)\n",
        "\n",
        "(tip: None을 지우고 date를 슬라이싱해서 각각의 데이터를 저장하세요!)"
      ]
    },
    {
      "cell_type": "code",
      "metadata": {
        "id": "270XbDvYqvJu",
        "colab_type": "code",
        "outputId": "c735d5d0-05e0-4445-885e-b5f418787850",
        "colab": {
          "base_uri": "https://localhost:8080/",
          "height": 34
        }
      },
      "source": [
        "# 주어진 변수(date)만 직접 수정불가, 다른 year, month, day 변수는 직접 수정가능\n",
        "# 슬라이스를 사용 안 할 경우 오답처리\n",
        "date = '20200511'\n",
        "\n",
        "year = date[:4]\n",
        "month = date[4:6]\n",
        "day = date[6:]\n",
        "\n",
        "print(year, month, day)"
      ],
      "execution_count": 0,
      "outputs": [
        {
          "output_type": "stream",
          "text": [
            "2020 05 11\n"
          ],
          "name": "stdout"
        }
      ]
    },
    {
      "cell_type": "markdown",
      "metadata": {
        "id": "sOjirt93r2Ob",
        "colab_type": "text"
      },
      "source": [
        "### __04번 문제(for)__\n",
        "\n",
        "__다음 변수 summary에 1 부터 100까지 모두 더한 값을 저장하여 출력하세요.__\n"
      ]
    },
    {
      "cell_type": "code",
      "metadata": {
        "id": "MiGjtBg3r2f_",
        "colab_type": "code",
        "outputId": "dfc236cd-f705-40f6-d6f5-47e1521ab1c0",
        "colab": {
          "base_uri": "https://localhost:8080/",
          "height": 35
        }
      },
      "source": [
        "# 주어진 변수(summary) 직접 수정불가\n",
        "summary = 0\n",
        "\n",
        "for s in range(1,101):\n",
        "  summary = summary + s\n",
        "\n",
        "print(summary)"
      ],
      "execution_count": 0,
      "outputs": [
        {
          "output_type": "stream",
          "text": [
            "5050\n"
          ],
          "name": "stdout"
        }
      ]
    },
    {
      "cell_type": "markdown",
      "metadata": {
        "id": "g-nnpUwya5Lp",
        "colab_type": "text"
      },
      "source": [
        "### __05번 문제(string reverse)__\n",
        "\n",
        "__다음 변수 hangul의 문자열을 거꾸로 출력하세요. (출력:‘사바마라다나가’)__\n"
      ]
    },
    {
      "cell_type": "code",
      "metadata": {
        "id": "hHCquVTHbSNN",
        "colab_type": "code",
        "outputId": "9cd0655e-210e-4c20-e8be-45ef702f225e",
        "colab": {
          "base_uri": "https://localhost:8080/",
          "height": 35
        }
      },
      "source": [
        "# 주어진 변수(hangul) 직접 수정불가\n",
        "hangul = '가나다라마바사'\n",
        "\n",
        "# 출력\n",
        "hangul_list = list(hangul)\n",
        "hangul_list.reverse()\n",
        "\n",
        "print(''.join(hangul_list))"
      ],
      "execution_count": 0,
      "outputs": [
        {
          "output_type": "stream",
          "text": [
            "사바마라다나가\n"
          ],
          "name": "stdout"
        }
      ]
    },
    {
      "cell_type": "markdown",
      "metadata": {
        "id": "uUQ7rQWeclz5",
        "colab_type": "text"
      },
      "source": [
        "### __06번 문제(str -> list -> int 변환)__\n",
        "\n",
        "__다음 변수 num에는 공백으로 구분된 4개의 점수가 들어 있습니다. 평균을 구해서 출력하세요.__"
      ]
    },
    {
      "cell_type": "code",
      "metadata": {
        "id": "kcUrhpt5c22W",
        "colab_type": "code",
        "outputId": "45379f9f-f847-4059-b015-6dbf1d247522",
        "colab": {
          "base_uri": "https://localhost:8080/",
          "height": 35
        }
      },
      "source": [
        "# 주어진 변수(num) 직접 수정불가\n",
        "num = \"70 50 90 70\" #현재 str 타입\n",
        "\n",
        "#출력\n",
        "l = num.split() #num의 숫자를 찢어 ()공백을 없애고 list 타입으로 변경\n",
        "a = map(int, l) \n",
        "b = list(a)\n",
        "\n",
        "total = 0\n",
        "for total in b :\n",
        "  total = sum(b)\n",
        "\n",
        "average = total / len(b)\n",
        "\n",
        "print(average) "
      ],
      "execution_count": 0,
      "outputs": [
        {
          "output_type": "stream",
          "text": [
            "70.0\n"
          ],
          "name": "stdout"
        }
      ]
    },
    {
      "cell_type": "markdown",
      "metadata": {
        "id": "167vtalddRGH",
        "colab_type": "text"
      },
      "source": [
        "### __07번 문제(if문)__\n",
        "\n",
        "__다음 변수 n에 입력한 값이 짝수 일 경우 ‘짝수’를, 짝수가 아닐 경우 ‘짝수가 아닙니다’를 판별하여 출력하세요.__ (출력: __짝수__ or __짝수가 아닙니다__)\n"
      ]
    },
    {
      "cell_type": "code",
      "metadata": {
        "id": "8gwIuAVWdl9Z",
        "colab_type": "code",
        "outputId": "c36fe614-0cc0-4771-e9a1-e6911dcfccca",
        "colab": {
          "base_uri": "https://localhost:8080/",
          "height": 52
        }
      },
      "source": [
        "# 주어진 변수(n) 직접 수정불가\n",
        "n = int(input('숫자를 입력해주세요'))\n",
        "\n",
        "#출력\n",
        "k = n % 2\n",
        "\n",
        "if k == 0 :\n",
        "  print(\"짝수\")\n",
        "else :\n",
        "  print(\"짝수가 아닙니다\")"
      ],
      "execution_count": 0,
      "outputs": [
        {
          "output_type": "stream",
          "text": [
            "숫자를 입력해주세요3\n",
            "짝수가 아닙니다\n"
          ],
          "name": "stdout"
        }
      ]
    },
    {
      "cell_type": "markdown",
      "metadata": {
        "id": "QLySHJw9eB01",
        "colab_type": "text"
      },
      "source": [
        "\n",
        "### __08번 문제(산술 연산 및 list index)__\n",
        "\n",
        "__직사각형의 대각선의 길이를 구하는 공식은 밑변의 제곱 + 높이의 제곱 = 대각선의 제곱이다.__\n",
        "\n",
        "__다음 변수 list_08에는 하나의 직사각형의 밑변과 높이가 저장되어 있습니다.__\n",
        "\n",
        "__각각 밑변이 3이고 높이가 4일 때, 직사각형의 대각선의 제곱의 길이를 출력하세요.__"
      ]
    },
    {
      "cell_type": "code",
      "metadata": {
        "id": "9bEv0Wn3e_Da",
        "colab_type": "code",
        "outputId": "b0327f11-be2a-4459-e380-03303f97b54b",
        "colab": {
          "base_uri": "https://localhost:8080/",
          "height": 35
        }
      },
      "source": [
        "# 주어진 변수(list_08) 직접 수정불가\n",
        "list_08 = [3, 4]\n",
        "\n",
        "# 출력\n",
        "a = list_08[0]**2\n",
        "b = list_08[1]**2\n",
        "c = a + b\n",
        "print(c)"
      ],
      "execution_count": 0,
      "outputs": [
        {
          "output_type": "stream",
          "text": [
            "25\n"
          ],
          "name": "stdout"
        }
      ]
    },
    {
      "cell_type": "markdown",
      "metadata": {
        "id": "efgr8XT3j0QE",
        "colab_type": "text"
      },
      "source": [
        "### __09번 문제(소수 판별 프로그램)__\n",
        "__입력받은 숫자가 소수인지 아닌지 출력하는 프로그램을 작성 해 주세요.__ (출력 : __소수__ or __소수가 아닙니다__)"
      ]
    },
    {
      "cell_type": "code",
      "metadata": {
        "id": "j7MNZZGGuXu0",
        "colab_type": "code",
        "outputId": "2099164d-5dba-45c9-861b-cb8b6bb0fe90",
        "colab": {
          "base_uri": "https://localhost:8080/",
          "height": 52
        }
      },
      "source": [
        "# 주어진 변수(num_10) 직접 수정불가\n",
        "# 함수(prime_number) 직접 수정가능\n",
        "num_10 = int(input('숫자를 입력해주세요'))\n",
        "\n",
        "def prime_number(n):\n",
        "    if n != 1:\n",
        "        for f in range(2, n-1):\n",
        "            if n % f == 0:\n",
        "                return False\n",
        "    else:\n",
        "        return False\n",
        "    return True\n",
        "\n",
        "if prime_number(num_10):\n",
        "    print(\"소수\")\n",
        "else:\n",
        "    print(\"소수가 아닙니다\")\n"
      ],
      "execution_count": 0,
      "outputs": [
        {
          "output_type": "stream",
          "text": [
            "숫자를 입력해주세요2\n",
            "소수\n"
          ],
          "name": "stdout"
        }
      ]
    },
    {
      "cell_type": "markdown",
      "metadata": {
        "id": "tN2dx7b0gHM3",
        "colab_type": "text"
      },
      "source": [
        "## __인공지능 수학 문제__"
      ]
    },
    {
      "cell_type": "markdown",
      "metadata": {
        "id": "QshpWJfxfO6A",
        "colab_type": "text"
      },
      "source": [
        "### __1번 문제 (Hypothesis)__\n",
        "\n",
        "다음 공식은 Hypothesis를 구하는 공식입니다. 다음과 같이 값이 주어졌을때 H(x)의 값을 구하시오.\n",
        "\n",
        "*   W = 3\n",
        "*   x = 10\n",
        "*   b = 1\n"
      ]
    },
    {
      "cell_type": "markdown",
      "metadata": {
        "id": "upv_hWgL8yks",
        "colab_type": "text"
      },
      "source": [
        "# $$h(x) = Wx + b$$"
      ]
    },
    {
      "cell_type": "markdown",
      "metadata": {
        "id": "ZFMYPx42mt2E",
        "colab_type": "text"
      },
      "source": [
        "#### 정답 : 31"
      ]
    },
    {
      "cell_type": "markdown",
      "metadata": {
        "id": "6sIvtew0eHSy",
        "colab_type": "text"
      },
      "source": [
        "## __2번 문제 (Cost function)__\n",
        "\n",
        "다음 공식은 Cost를 구하는 공식입니다. 다음과 같이 값이 주어졌을때 cost의 값을 구하세요.\n",
        "\n",
        "* W = 2\n",
        "* x = [2, 4, 8]\n",
        "* y = [5, 12, 21]\n",
        "\n",
        "(tip: x1=2, y1=5 / x2=4, y2=12 / x3=8, y3=21)"
      ]
    },
    {
      "cell_type": "markdown",
      "metadata": {
        "id": "tjWpl4O1oXy1",
        "colab_type": "text"
      },
      "source": [
        "# $$cost(W) =  \\frac{1}{n}\\sum_{i=1}^n (Wx^{(i)}-y^{(i)})^2$$"
      ]
    },
    {
      "cell_type": "markdown",
      "metadata": {
        "id": "ITWV0EuznYgF",
        "colab_type": "text"
      },
      "source": [
        "#### 정답 : 14"
      ]
    },
    {
      "cell_type": "markdown",
      "metadata": {
        "id": "sQMi2ASxeJtt",
        "colab_type": "text"
      },
      "source": [
        "## __3번 문제 (Logistic regression sigmoid function)__\n",
        "\n",
        "다음 공식은 로지스틱 시그모이드 함수입니다. x가 __양의 무한대로__ 갈때 f(x)가 수렴하는 값을 구하세요.\n",
        "\n",
        "![대체 텍스트](https://prwatech.in/blog/wp-content/uploads/2020/02/logi3.png)"
      ]
    },
    {
      "cell_type": "markdown",
      "metadata": {
        "id": "e_e_z3PCkDgM",
        "colab_type": "text"
      },
      "source": [
        "#### 정답 : 1"
      ]
    }
  ]
}